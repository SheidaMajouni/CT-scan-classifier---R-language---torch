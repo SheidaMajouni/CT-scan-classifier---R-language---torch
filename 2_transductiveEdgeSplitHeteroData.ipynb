{
  "nbformat": 4,
  "nbformat_minor": 0,
  "metadata": {
    "colab": {
      "provenance": [],
      "authorship_tag": "ABX9TyMKWuR3u5hRLI6xpR+x0IIA",
      "include_colab_link": true
    },
    "kernelspec": {
      "name": "python3",
      "display_name": "Python 3"
    },
    "language_info": {
      "name": "python"
    }
  },
  "cells": [
    {
      "cell_type": "markdown",
      "metadata": {
        "id": "view-in-github",
        "colab_type": "text"
      },
      "source": [
        "<a href=\"https://colab.research.google.com/github/SheidaMajouni/CT-scan-classifier---R-language---torch/blob/main/2_transductiveEdgeSplitHeteroData.ipynb\" target=\"_parent\"><img src=\"https://colab.research.google.com/assets/colab-badge.svg\" alt=\"Open In Colab\"/></a>"
      ]
    },
    {
      "cell_type": "code",
      "source": [
        "!pip install torch_geometric"
      ],
      "metadata": {
        "colab": {
          "base_uri": "https://localhost:8080/"
        },
        "id": "2muaEe3PvSob",
        "outputId": "4e3b0832-820b-453b-d024-933a82f6971c"
      },
      "execution_count": 2,
      "outputs": [
        {
          "output_type": "stream",
          "name": "stdout",
          "text": [
            "Collecting torch_geometric\n",
            "  Downloading torch_geometric-2.5.0-py3-none-any.whl (1.1 MB)\n",
            "\u001b[2K     \u001b[90m━━━━━━━━━━━━━━━━━━━━━━━━━━━━━━━━━━━━━━━━\u001b[0m \u001b[32m1.1/1.1 MB\u001b[0m \u001b[31m6.3 MB/s\u001b[0m eta \u001b[36m0:00:00\u001b[0m\n",
            "\u001b[?25hRequirement already satisfied: tqdm in /usr/local/lib/python3.10/dist-packages (from torch_geometric) (4.66.2)\n",
            "Requirement already satisfied: numpy in /usr/local/lib/python3.10/dist-packages (from torch_geometric) (1.25.2)\n",
            "Requirement already satisfied: scipy in /usr/local/lib/python3.10/dist-packages (from torch_geometric) (1.11.4)\n",
            "Requirement already satisfied: fsspec in /usr/local/lib/python3.10/dist-packages (from torch_geometric) (2023.6.0)\n",
            "Requirement already satisfied: jinja2 in /usr/local/lib/python3.10/dist-packages (from torch_geometric) (3.1.3)\n",
            "Requirement already satisfied: aiohttp in /usr/local/lib/python3.10/dist-packages (from torch_geometric) (3.9.3)\n",
            "Requirement already satisfied: requests in /usr/local/lib/python3.10/dist-packages (from torch_geometric) (2.31.0)\n",
            "Requirement already satisfied: pyparsing in /usr/local/lib/python3.10/dist-packages (from torch_geometric) (3.1.1)\n",
            "Requirement already satisfied: scikit-learn in /usr/local/lib/python3.10/dist-packages (from torch_geometric) (1.2.2)\n",
            "Requirement already satisfied: psutil>=5.8.0 in /usr/local/lib/python3.10/dist-packages (from torch_geometric) (5.9.5)\n",
            "Requirement already satisfied: aiosignal>=1.1.2 in /usr/local/lib/python3.10/dist-packages (from aiohttp->torch_geometric) (1.3.1)\n",
            "Requirement already satisfied: attrs>=17.3.0 in /usr/local/lib/python3.10/dist-packages (from aiohttp->torch_geometric) (23.2.0)\n",
            "Requirement already satisfied: frozenlist>=1.1.1 in /usr/local/lib/python3.10/dist-packages (from aiohttp->torch_geometric) (1.4.1)\n",
            "Requirement already satisfied: multidict<7.0,>=4.5 in /usr/local/lib/python3.10/dist-packages (from aiohttp->torch_geometric) (6.0.5)\n",
            "Requirement already satisfied: yarl<2.0,>=1.0 in /usr/local/lib/python3.10/dist-packages (from aiohttp->torch_geometric) (1.9.4)\n",
            "Requirement already satisfied: async-timeout<5.0,>=4.0 in /usr/local/lib/python3.10/dist-packages (from aiohttp->torch_geometric) (4.0.3)\n",
            "Requirement already satisfied: MarkupSafe>=2.0 in /usr/local/lib/python3.10/dist-packages (from jinja2->torch_geometric) (2.1.5)\n",
            "Requirement already satisfied: charset-normalizer<4,>=2 in /usr/local/lib/python3.10/dist-packages (from requests->torch_geometric) (3.3.2)\n",
            "Requirement already satisfied: idna<4,>=2.5 in /usr/local/lib/python3.10/dist-packages (from requests->torch_geometric) (3.6)\n",
            "Requirement already satisfied: urllib3<3,>=1.21.1 in /usr/local/lib/python3.10/dist-packages (from requests->torch_geometric) (2.0.7)\n",
            "Requirement already satisfied: certifi>=2017.4.17 in /usr/local/lib/python3.10/dist-packages (from requests->torch_geometric) (2024.2.2)\n",
            "Requirement already satisfied: joblib>=1.1.1 in /usr/local/lib/python3.10/dist-packages (from scikit-learn->torch_geometric) (1.3.2)\n",
            "Requirement already satisfied: threadpoolctl>=2.0.0 in /usr/local/lib/python3.10/dist-packages (from scikit-learn->torch_geometric) (3.3.0)\n",
            "Installing collected packages: torch_geometric\n",
            "Successfully installed torch_geometric-2.5.0\n"
          ]
        }
      ]
    },
    {
      "cell_type": "code",
      "source": [
        "import torch\n",
        "from torch_geometric.data import HeteroData\n",
        "from torch_geometric.transforms import RandomLinkSplit, ToUndirected\n",
        "from torch_geometric.data import Data\n",
        "import pandas as pd"
      ],
      "metadata": {
        "id": "cTLY1gaqvSHk"
      },
      "execution_count": 3,
      "outputs": []
    },
    {
      "cell_type": "code",
      "execution_count": 4,
      "metadata": {
        "colab": {
          "base_uri": "https://localhost:8080/"
        },
        "id": "NO1gW5eJutKk",
        "outputId": "8e9afd82-eca9-4d6e-ac12-73695c45c565"
      },
      "outputs": [
        {
          "output_type": "stream",
          "name": "stdout",
          "text": [
            "HeteroData(\n",
            "  donor={ x=[6, 3] },\n",
            "  recipient={ x=[6, 3] },\n",
            "  (recipient, match, donor)={\n",
            "    edge_index=[2, 21],\n",
            "    edge_weight=[21],\n",
            "    edge_label=[21],\n",
            "  }\n",
            ")\n"
          ]
        }
      ],
      "source": [
        "# read the data from the file\n",
        "data = torch.load('data.pt')\n",
        "\n",
        "print(data)"
      ]
    },
    {
      "cell_type": "code",
      "source": [
        "# We can now convert `data` into an appropriate format for training a\n",
        "# graph-based machine learning model:\n",
        "\n",
        "# # 2. Perform a link-level split into training, validation, and test edges.\n",
        "# transform = RandomLinkSplit(\n",
        "#     num_val=0.05,\n",
        "#     num_test=0.1,\n",
        "#     neg_sampling_ratio=0.0,\n",
        "#     edge_types=[('recipient', 'match', 'donor')],\n",
        "#     rev_edge_types=[('donor', 'rev_match', 'recipient')],\n",
        "# )\n",
        "# train_data, val_data, test_data = transform(data)\n",
        "# print(train_data)\n",
        "# print(train_data['recipient', 'match', 'donor'].edge_index)\n",
        "# print(train_data['recipient', 'match', 'donor'].edge_label)\n",
        "# print(train_data['recipient', 'match', 'donor'].edge_attr)\n",
        "# print(val_data)\n",
        "# print(test_data)"
      ],
      "metadata": {
        "id": "bpqqY4AzvYoC"
      },
      "execution_count": null,
      "outputs": []
    },
    {
      "cell_type": "code",
      "source": [
        "\"\"\"\n",
        "problem of RandomLinkSplit is that it considers all existing edges as positive examples\n",
        "we want to use second edge_attr column to determine whether the edge is positive or negative\n",
        "actually, first I have to filter edges (pair of nodes) that have weight = 3 because these\n",
        "are the ones that we have the label for survival or not! and we only care of predicting edges\n",
        "with weight 3. split the data into train, val, test. all the other edges should be in available\n",
        "in message passing. (transductive link prediction split)\n",
        "    * all edges with weight 1 and 2: blue message passing\n",
        "    * all edges with weight 3_train: red train supervisor\n",
        "    * all edges with weight 3_val: yellow validation\n",
        "    * all edges with weight 3_test: green test\n",
        "\"\"\""
      ],
      "metadata": {
        "id": "QTef2RaYvYXN"
      },
      "execution_count": null,
      "outputs": []
    },
    {
      "cell_type": "code",
      "source": [
        "# Get the edge indices and attributes\n",
        "edge_index = data['recipient', 'match', 'donor'].edge_index\n",
        "edge_weight = data['recipient', 'match', 'donor'].edge_weight\n"
      ],
      "metadata": {
        "id": "dDNmiaDpvkJE"
      },
      "execution_count": 5,
      "outputs": []
    },
    {
      "cell_type": "code",
      "source": [
        "# Separate message passing and supervised edges\n",
        "message_passing_edges = edge_index[:, edge_weight <= 2]\n",
        "supervised_edges = edge_index[:, edge_weight == 3]\n"
      ],
      "metadata": {
        "id": "B6ByAKE8vkuj"
      },
      "execution_count": 6,
      "outputs": []
    },
    {
      "cell_type": "code",
      "source": [
        "# Randomly permute the supervised edges\n",
        "perm = torch.randperm(supervised_edges.size(1))\n",
        "\n",
        "# Split the supervised edges into training, validation, and test sets\n",
        "num_supervised = supervised_edges.size(1)\n",
        "train_edges = supervised_edges[:, perm[:int(0.8 * num_supervised)]]\n",
        "val_edges = supervised_edges[:, perm[int(0.8 * num_supervised):int(0.9 * num_supervised)]]\n",
        "test_edges = supervised_edges[:, perm[int(0.9 * num_supervised):]]\n"
      ],
      "metadata": {
        "id": "t7zi7mjNvnb7"
      },
      "execution_count": 7,
      "outputs": []
    },
    {
      "cell_type": "code",
      "source": [
        "# Find the indices of edge in edge_list\n",
        "mp_indices = [torch.nonzero((edge_index.t() == edge).all(dim=1), as_tuple=False).view(-1).item() for edge in message_passing_edges.t()]\n",
        "train_indices = [torch.nonzero((edge_index.t() == edge).all(dim=1), as_tuple=False).view(-1).item() for edge in train_edges.t()]\n",
        "val_indices = [torch.nonzero((edge_index.t() == edge).all(dim=1), as_tuple=False).view(-1).item() for edge in val_edges.t()]\n",
        "test_indices = [torch.nonzero((edge_index.t() == edge).all(dim=1), as_tuple=False).view(-1).item() for edge in test_edges.t()]\n",
        "\n",
        "# convert to tensor\n",
        "mp_indices = torch.tensor(mp_indices)\n",
        "train_indices = torch.tensor(train_indices)\n",
        "val_indices = torch.tensor(val_indices)\n",
        "test_indices = torch.tensor(test_indices)\n"
      ],
      "metadata": {
        "id": "0JBllGu6voKJ"
      },
      "execution_count": 8,
      "outputs": []
    },
    {
      "cell_type": "code",
      "source": [
        "# Create the dictionary\n",
        "edge_type = ('recipient', 'match', 'donor')\n",
        "message_passing_dict = {edge_type: mp_indices}\n",
        "train_edge_dict = {edge_type: train_indices}\n",
        "val_edge_dict = {edge_type: val_indices}\n",
        "test_edge_dict = {edge_type: test_indices}\n"
      ],
      "metadata": {
        "id": "hVRpX8POvrsD"
      },
      "execution_count": 9,
      "outputs": []
    },
    {
      "cell_type": "code",
      "source": [
        "# Create a Data object for the message passing set\n",
        "mp_data = data.edge_subgraph(message_passing_dict) # 15 edges except (0,0) (1,1) ...\n",
        "train_super_data = data.edge_subgraph(train_edge_dict) # 4 edges including (0,0) (1,1) ...\n",
        "val_super_data = data.edge_subgraph(val_edge_dict) # 1 edge including (4,4)\n",
        "test_super_data = data.edge_subgraph(test_edge_dict) # 1 edge including (5,5)\n"
      ],
      "metadata": {
        "id": "JTuYNJhtvt1G"
      },
      "execution_count": 10,
      "outputs": []
    },
    {
      "cell_type": "code",
      "source": [
        "# create train data by combination of train_super_data and mp_data\n",
        "train_data = mp_data.__copy__()\n",
        "train_data['recipient', 'match', 'donor'].edge_label = train_super_data['recipient', 'match', 'donor'].edge_label\n",
        "train_data['recipient', 'match', 'donor'].edge_label_index = train_super_data['recipient', 'match', 'donor'].edge_index\n"
      ],
      "metadata": {
        "id": "srz1STEivwIn"
      },
      "execution_count": 11,
      "outputs": []
    },
    {
      "cell_type": "code",
      "source": [
        "# creat validation: message passing edge = mp + train super, val_super = val_data\n",
        "val_data = mp_data.__copy__()\n",
        "val_data['recipient', 'match', 'donor'].edge_index = torch.cat([mp_data['recipient', 'match', 'donor'].edge_index, train_super_data['recipient', 'match', 'donor'].edge_index], dim=1)\n",
        "val_data['recipient', 'match', 'donor'].edge_weight = torch.cat([mp_data['recipient', 'match', 'donor'].edge_weight, train_super_data['recipient', 'match', 'donor'].edge_weight], dim=0)\n",
        "val_data['recipient', 'match', 'donor'].edge_label = val_super_data['recipient', 'match', 'donor'].edge_label\n",
        "val_data['recipient', 'match', 'donor'].edge_label_index = val_super_data['recipient', 'match', 'donor'].edge_index\n"
      ],
      "metadata": {
        "id": "75eL4haRvx0T"
      },
      "execution_count": 12,
      "outputs": []
    },
    {
      "cell_type": "code",
      "source": [
        "# creat test: message passing edge = mp + train super + val super, test_super = test_data\n",
        "test_data = val_data.__copy__()\n",
        "test_data['recipient', 'match', 'donor'].edge_index = torch.cat([val_data['recipient', 'match', 'donor'].edge_index, val_super_data['recipient', 'match', 'donor'].edge_index], dim=1)\n",
        "test_data['recipient', 'match', 'donor'].edge_weight = torch.cat([val_data['recipient', 'match', 'donor'].edge_weight, val_super_data['recipient', 'match', 'donor'].edge_weight], dim=0)\n",
        "test_data['recipient', 'match', 'donor'].edge_label = test_super_data['recipient', 'match', 'donor'].edge_label\n",
        "test_data['recipient', 'match', 'donor'].edge_label_index = test_super_data['recipient', 'match', 'donor'].edge_index\n"
      ],
      "metadata": {
        "id": "PilBRPugvzUM"
      },
      "execution_count": 13,
      "outputs": []
    },
    {
      "cell_type": "code",
      "source": [
        "# 1. Add a reverse ('donor', 'rev_match', 'recipient') relation for message passing.\n",
        "train_data = ToUndirected()(train_data)\n",
        "del train_data['donor', 'rev_match', 'recipient'].edge_label  # Remove \"reverse\" label.\n",
        "print(\"train_data\")\n",
        "print(train_data)\n",
        "print(\"train_ms_edges:\", train_data['recipient', 'match', 'donor'].edge_index)\n",
        "print(\"train_super_edges:\", train_data['recipient', 'match', 'donor'].edge_label_index)\n",
        "\n",
        "val_data = ToUndirected()(val_data)\n",
        "del val_data['donor', 'rev_match', 'recipient'].edge_label  # Remove \"reverse\" label.\n",
        "print(\"val_data\")\n",
        "print(val_data)\n",
        "print(\"val_ms_edges:\", val_data['recipient', 'match', 'donor'].edge_index)\n",
        "print(\"val_super_edges:\", val_data['recipient', 'match', 'donor'].edge_label_index)\n",
        "\n",
        "test_data = ToUndirected()(test_data)\n",
        "del test_data['donor', 'rev_match', 'recipient'].edge_label  # Remove \"reverse\" label.\n",
        "print(\"test_data\")\n",
        "print(test_data)\n",
        "print(\"test_ms_edges:\", test_data['recipient', 'match', 'donor'].edge_index)\n",
        "print(\"test_super_edges:\", test_data['recipient', 'match', 'donor'].edge_label_index)\n"
      ],
      "metadata": {
        "colab": {
          "base_uri": "https://localhost:8080/"
        },
        "id": "M8Je60tPv2LL",
        "outputId": "d44a10e0-c84f-47ba-c9c3-20c3b99e2cb2"
      },
      "execution_count": 14,
      "outputs": [
        {
          "output_type": "stream",
          "name": "stdout",
          "text": [
            "train_data\n",
            "HeteroData(\n",
            "  donor={ x=[6, 3] },\n",
            "  recipient={ x=[6, 3] },\n",
            "  (recipient, match, donor)={\n",
            "    edge_index=[2, 15],\n",
            "    edge_weight=[15],\n",
            "    edge_label=[4],\n",
            "    edge_label_index=[2, 4],\n",
            "  },\n",
            "  (donor, rev_match, recipient)={\n",
            "    edge_index=[2, 15],\n",
            "    edge_weight=[15],\n",
            "  }\n",
            ")\n",
            "train_ms_edges: tensor([[1, 4, 4, 1, 4, 0, 1, 2, 4, 5, 0, 1, 1, 2, 4],\n",
            "        [0, 0, 1, 2, 2, 3, 3, 3, 3, 3, 4, 4, 5, 5, 5]])\n",
            "train_super_edges: tensor([[4, 2, 3, 5],\n",
            "        [4, 2, 3, 5]])\n",
            "val_data\n",
            "HeteroData(\n",
            "  donor={ x=[6, 3] },\n",
            "  recipient={ x=[6, 3] },\n",
            "  (recipient, match, donor)={\n",
            "    edge_index=[2, 19],\n",
            "    edge_weight=[19],\n",
            "    edge_label=[1],\n",
            "    edge_label_index=[2, 1],\n",
            "  },\n",
            "  (donor, rev_match, recipient)={\n",
            "    edge_index=[2, 19],\n",
            "    edge_weight=[19],\n",
            "  }\n",
            ")\n",
            "val_ms_edges: tensor([[1, 4, 4, 1, 4, 0, 1, 2, 4, 5, 0, 1, 1, 2, 4, 4, 2, 3, 5],\n",
            "        [0, 0, 1, 2, 2, 3, 3, 3, 3, 3, 4, 4, 5, 5, 5, 4, 2, 3, 5]])\n",
            "val_super_edges: tensor([[1],\n",
            "        [1]])\n",
            "test_data\n",
            "HeteroData(\n",
            "  donor={ x=[6, 3] },\n",
            "  recipient={ x=[6, 3] },\n",
            "  (recipient, match, donor)={\n",
            "    edge_index=[2, 20],\n",
            "    edge_weight=[20],\n",
            "    edge_label=[1],\n",
            "    edge_label_index=[2, 1],\n",
            "  },\n",
            "  (donor, rev_match, recipient)={\n",
            "    edge_index=[2, 20],\n",
            "    edge_weight=[20],\n",
            "  }\n",
            ")\n",
            "test_ms_edges: tensor([[1, 4, 4, 1, 4, 0, 1, 2, 4, 5, 0, 1, 1, 2, 4, 4, 2, 3, 5, 1],\n",
            "        [0, 0, 1, 2, 2, 3, 3, 3, 3, 3, 4, 4, 5, 5, 5, 4, 2, 3, 5, 1]])\n",
            "test_super_edges: tensor([[0],\n",
            "        [0]])\n"
          ]
        }
      ]
    }
  ]
}